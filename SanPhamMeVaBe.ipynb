{
 "cells": [
  {
   "cell_type": "code",
   "execution_count": 5,
   "id": "5CzEx4yGYxfV",
   "metadata": {
    "colab": {
     "base_uri": "https://localhost:8080/"
    },
    "executionInfo": {
     "elapsed": 16832,
     "status": "ok",
     "timestamp": 1713582193027,
     "user": {
      "displayName": "Linh Hoàng",
      "userId": "18303280637135091840"
     },
     "user_tz": -420
    },
    "id": "5CzEx4yGYxfV",
    "outputId": "8898b600-45ae-40c0-c086-80847d4ab1e3"
   },
   "outputs": [
    {
     "name": "stdout",
     "output_type": "stream",
     "text": [
      "Mounted at /content/drive\n"
     ]
    }
   ],
   "source": [
    "from google.colab import drive\n",
    "drive.mount('/content/drive')"
   ]
  },
  {
   "cell_type": "markdown",
   "id": "d84eb725",
   "metadata": {},
   "source": [
    "# Tải các thư viện cần thiết cho việc cào dữ liệu"
   ]
  },
  {
   "cell_type": "code",
   "execution_count": 1,
   "id": "8j-gbJqaY4uQ",
   "metadata": {
    "colab": {
     "base_uri": "https://localhost:8080/"
    },
    "executionInfo": {
     "elapsed": 14140,
     "status": "ok",
     "timestamp": 1713582167738,
     "user": {
      "displayName": "Linh Hoàng",
      "userId": "18303280637135091840"
     },
     "user_tz": -420
    },
    "id": "8j-gbJqaY4uQ",
    "outputId": "f5aa7ff1-9721-426e-80ae-983cde4a6f6e"
   },
   "outputs": [
    {
     "name": "stdout",
     "output_type": "stream",
     "text": [
      "Collecting selenium\n",
      "  Downloading selenium-4.19.0-py3-none-any.whl (10.5 MB)\n",
      "\u001b[2K     \u001b[90m━━━━━━━━━━━━━━━━━━━━━━━━━━━━━━━━━━━━━━━━\u001b[0m \u001b[32m10.5/10.5 MB\u001b[0m \u001b[31m23.3 MB/s\u001b[0m eta \u001b[36m0:00:00\u001b[0m\n",
      "\u001b[?25hRequirement already satisfied: urllib3[socks]<3,>=1.26 in /usr/local/lib/python3.10/dist-packages (from selenium) (2.0.7)\n",
      "Collecting trio~=0.17 (from selenium)\n",
      "  Downloading trio-0.25.0-py3-none-any.whl (467 kB)\n",
      "\u001b[2K     \u001b[90m━━━━━━━━━━━━━━━━━━━━━━━━━━━━━━━━━━━━━━━━\u001b[0m \u001b[32m467.2/467.2 kB\u001b[0m \u001b[31m27.4 MB/s\u001b[0m eta \u001b[36m0:00:00\u001b[0m\n",
      "\u001b[?25hCollecting trio-websocket~=0.9 (from selenium)\n",
      "  Downloading trio_websocket-0.11.1-py3-none-any.whl (17 kB)\n",
      "Requirement already satisfied: certifi>=2021.10.8 in /usr/local/lib/python3.10/dist-packages (from selenium) (2024.2.2)\n",
      "Requirement already satisfied: typing_extensions>=4.9.0 in /usr/local/lib/python3.10/dist-packages (from selenium) (4.11.0)\n",
      "Requirement already satisfied: attrs>=23.2.0 in /usr/local/lib/python3.10/dist-packages (from trio~=0.17->selenium) (23.2.0)\n",
      "Requirement already satisfied: sortedcontainers in /usr/local/lib/python3.10/dist-packages (from trio~=0.17->selenium) (2.4.0)\n",
      "Requirement already satisfied: idna in /usr/local/lib/python3.10/dist-packages (from trio~=0.17->selenium) (3.7)\n",
      "Collecting outcome (from trio~=0.17->selenium)\n",
      "  Downloading outcome-1.3.0.post0-py2.py3-none-any.whl (10 kB)\n",
      "Requirement already satisfied: sniffio>=1.3.0 in /usr/local/lib/python3.10/dist-packages (from trio~=0.17->selenium) (1.3.1)\n",
      "Requirement already satisfied: exceptiongroup in /usr/local/lib/python3.10/dist-packages (from trio~=0.17->selenium) (1.2.0)\n",
      "Collecting wsproto>=0.14 (from trio-websocket~=0.9->selenium)\n",
      "  Downloading wsproto-1.2.0-py3-none-any.whl (24 kB)\n",
      "Requirement already satisfied: pysocks!=1.5.7,<2.0,>=1.5.6 in /usr/local/lib/python3.10/dist-packages (from urllib3[socks]<3,>=1.26->selenium) (1.7.1)\n",
      "Collecting h11<1,>=0.9.0 (from wsproto>=0.14->trio-websocket~=0.9->selenium)\n",
      "  Downloading h11-0.14.0-py3-none-any.whl (58 kB)\n",
      "\u001b[2K     \u001b[90m━━━━━━━━━━━━━━━━━━━━━━━━━━━━━━━━━━━━━━━━\u001b[0m \u001b[32m58.3/58.3 kB\u001b[0m \u001b[31m4.2 MB/s\u001b[0m eta \u001b[36m0:00:00\u001b[0m\n",
      "\u001b[?25hInstalling collected packages: outcome, h11, wsproto, trio, trio-websocket, selenium\n",
      "Successfully installed h11-0.14.0 outcome-1.3.0.post0 selenium-4.19.0 trio-0.25.0 trio-websocket-0.11.1 wsproto-1.2.0\n"
     ]
    }
   ],
   "source": [
    "!pip install selenium"
   ]
  },
  {
   "cell_type": "code",
   "execution_count": 2,
   "id": "hehkPuKxY5fW",
   "metadata": {
    "colab": {
     "base_uri": "https://localhost:8080/"
    },
    "executionInfo": {
     "elapsed": 6760,
     "status": "ok",
     "timestamp": 1713582174494,
     "user": {
      "displayName": "Linh Hoàng",
      "userId": "18303280637135091840"
     },
     "user_tz": -420
    },
    "id": "hehkPuKxY5fW",
    "outputId": "414411cf-4883-417a-9098-fec85d1f39f8"
   },
   "outputs": [
    {
     "name": "stdout",
     "output_type": "stream",
     "text": [
      "\r",
      "0% [Working]\r",
      "            \r",
      "Get:1 http://security.ubuntu.com/ubuntu jammy-security InRelease [110 kB]\n",
      "\r",
      "0% [Connecting to archive.ubuntu.com] [1 InRelease 12.3 kB/110 kB 11%] [Connected to cloud.r-project\r",
      "                                                                                                    \r",
      "Get:2 https://cloud.r-project.org/bin/linux/ubuntu jammy-cran40/ InRelease [3,626 B]\n",
      "\r",
      "0% [Waiting for headers] [1 InRelease 88.0 kB/110 kB 80%] [2 InRelease 0 B/3,626 B 0%] [Connecting t\r",
      "0% [Waiting for headers] [1 InRelease 110 kB/110 kB 100%] [Connecting to ppa.launchpadcontent.net (1\r",
      "                                                                                                    \r",
      "Get:3 https://developer.download.nvidia.com/compute/cuda/repos/ubuntu2204/x86_64  InRelease [1,581 B]\n",
      "Hit:4 http://archive.ubuntu.com/ubuntu jammy InRelease\n",
      "Get:5 http://archive.ubuntu.com/ubuntu jammy-updates InRelease [119 kB]\n",
      "Hit:6 http://archive.ubuntu.com/ubuntu jammy-backports InRelease\n",
      "Get:7 http://security.ubuntu.com/ubuntu jammy-security/restricted amd64 Packages [2,228 kB]\n",
      "Get:8 https://ppa.launchpadcontent.net/c2d4u.team/c2d4u4.0+/ubuntu jammy InRelease [18.1 kB]\n",
      "Get:9 https://developer.download.nvidia.com/compute/cuda/repos/ubuntu2204/x86_64  Packages [812 kB]\n",
      "Get:10 https://ppa.launchpadcontent.net/deadsnakes/ppa/ubuntu jammy InRelease [18.1 kB]\n",
      "Get:11 http://security.ubuntu.com/ubuntu jammy-security/universe amd64 Packages [1,077 kB]\n",
      "Get:12 http://security.ubuntu.com/ubuntu jammy-security/main amd64 Packages [1,739 kB]\n",
      "Get:13 https://ppa.launchpadcontent.net/graphics-drivers/ppa/ubuntu jammy InRelease [24.3 kB]\n",
      "Get:14 https://ppa.launchpadcontent.net/ubuntugis/ppa/ubuntu jammy InRelease [23.8 kB]\n",
      "Get:15 http://archive.ubuntu.com/ubuntu jammy-updates/universe amd64 Packages [1,369 kB]\n",
      "Get:16 http://archive.ubuntu.com/ubuntu jammy-updates/restricted amd64 Packages [2,307 kB]\n",
      "Get:17 http://archive.ubuntu.com/ubuntu jammy-updates/main amd64 Packages [2,019 kB]\n",
      "Get:18 https://ppa.launchpadcontent.net/c2d4u.team/c2d4u4.0+/ubuntu jammy/main Sources [2,268 kB]\n",
      "Get:19 https://ppa.launchpadcontent.net/c2d4u.team/c2d4u4.0+/ubuntu jammy/main amd64 Packages [1,164 kB]\n",
      "Get:20 https://ppa.launchpadcontent.net/deadsnakes/ppa/ubuntu jammy/main amd64 Packages [27.8 kB]\n",
      "Get:21 https://ppa.launchpadcontent.net/graphics-drivers/ppa/ubuntu jammy/main amd64 Packages [44.7 kB]\n",
      "Get:22 https://ppa.launchpadcontent.net/ubuntugis/ppa/ubuntu jammy/main amd64 Packages [66.2 kB]\n",
      "Fetched 15.4 MB in 3s (5,451 kB/s)\n",
      "Reading package lists... Done\n",
      "Reading package lists... Done\n",
      "Building dependency tree... Done\n",
      "Reading state information... Done\n",
      "Note, selecting 'chromium-chromedriver' instead of 'chromium-driver'\n",
      "Package chromium is not available, but is referred to by another package.\n",
      "This may mean that the package is missing, has been obsoleted, or\n",
      "is only available from another source\n",
      "However the following packages replace it:\n",
      "  chromium-bsu\n",
      "\n",
      "E: Package 'chromium' has no installation candidate\n"
     ]
    }
   ],
   "source": [
    "!apt-get update\n",
    "!apt-get install chromium chromium-driver"
   ]
  },
  {
   "cell_type": "markdown",
   "id": "d8cfc59e",
   "metadata": {},
   "source": [
    "# Import thư viện cần thiết"
   ]
  },
  {
   "cell_type": "code",
   "execution_count": 3,
   "id": "c3b5204b",
   "metadata": {
    "executionInfo": {
     "elapsed": 549,
     "status": "ok",
     "timestamp": 1713582175041,
     "user": {
      "displayName": "Linh Hoàng",
      "userId": "18303280637135091840"
     },
     "user_tz": -420
    },
    "id": "c3b5204b"
   },
   "outputs": [],
   "source": [
    "import numpy as np\n",
    "import pandas as pd\n",
    "from selenium import webdriver\n",
    "from bs4 import BeautifulSoup\n",
    "import requests\n",
    "import csv\n",
    "from selenium.webdriver.common.by import By\n",
    "from selenium.webdriver.support.ui import WebDriverWait\n",
    "from selenium.webdriver.support import expected_conditions as EC"
   ]
  },
  {
   "cell_type": "markdown",
   "id": "f6727604",
   "metadata": {},
   "source": [
    "# Tối ưu chrome cho việc cào dữ liệu "
   ]
  },
  {
   "cell_type": "code",
   "execution_count": 4,
   "id": "ePo8CJDkZGy9",
   "metadata": {
    "executionInfo": {
     "elapsed": 1,
     "status": "ok",
     "timestamp": 1713582175041,
     "user": {
      "displayName": "Linh Hoàng",
      "userId": "18303280637135091840"
     },
     "user_tz": -420
    },
    "id": "ePo8CJDkZGy9"
   },
   "outputs": [],
   "source": [
    "def web_driver():\n",
    "    options = webdriver.ChromeOptions()\n",
    "    options.add_argument(\"--verbose\")\n",
    "    options.add_argument('--no-sandbox')\n",
    "    options.add_argument('--headless')\n",
    "    options.add_argument('--disable-gpu')\n",
    "    options.add_argument(\"--window-size=1920, 1200\")\n",
    "    options.add_argument('--disable-dev-shm-usage')\n",
    "    driver = webdriver.Chrome(options=options)\n",
    "    return driver"
   ]
  },
  {
   "cell_type": "markdown",
   "id": "c0c4d495",
   "metadata": {},
   "source": [
    "# Lấy đường link của trang web và sản phẩm sau đó lưu lại "
   ]
  },
  {
   "cell_type": "code",
   "execution_count": null,
   "id": "38f74b43",
   "metadata": {
    "id": "38f74b43"
   },
   "outputs": [],
   "source": [
    "opt = webdriver.ChromeOptions()\n",
    "driver = webdriver.Chrome(options=opt)\n",
    "driver.get('https://bibomart.com.vn/?gad_source=1&gclid=CjwKCAjww_iwBhApEiwAuG6ccIihHcZYV4fa4NwLwKC5jvbiz525nxdtOCYmXEjv5ACjOspiGnX40BoC1U0QAvD_BwE')"
   ]
  },
  {
   "cell_type": "code",
   "execution_count": null,
   "id": "8eba3332",
   "metadata": {
    "id": "8eba3332"
   },
   "outputs": [],
   "source": [
    "html = driver.page_source\n",
    "soup = BeautifulSoup(html, 'html.parser')"
   ]
  },
  {
   "cell_type": "code",
   "execution_count": null,
   "id": "09fac7e9",
   "metadata": {
    "id": "09fac7e9"
   },
   "outputs": [],
   "source": [
    "menu_items = soup.find_all('li', class_='menu megamenu-item has-child has-content') #Lấy tag li mà tên vs tên class = \"\"\n",
    "urls = [item.a['href'] for item in menu_items if item.a] #Lấy ra url của từng trang sản phẩm một cách chuyên biệt"
   ]
  },
  {
   "cell_type": "code",
   "execution_count": null,
   "id": "7faaba1d",
   "metadata": {
    "id": "7faaba1d",
    "outputId": "7d3d5dc5-e6a8-4a3a-eb9b-6a7d583b8bbd"
   },
   "outputs": [
    {
     "data": {
      "text/plain": [
       "['https://bibomart.com.vn/be-uong-sua.html',\n",
       " 'https://bibomart.com.vn/be-an-dam.html',\n",
       " 'https://bibomart.com.vn/be-tam-va-ve-sinh.html',\n",
       " 'https://bibomart.com.vn/be-mac.html',\n",
       " 'https://bibomart.com.vn/be-khoe-va-an-toan.html',\n",
       " 'https://bibomart.com.vn/be-choi-va-hoc.html',\n",
       " 'https://bibomart.com.vn/be-ngu.html',\n",
       " 'https://bibomart.com.vn/be-di-choi-va-van-dong.html',\n",
       " 'https://bibomart.com.vn/danh-cho-me.html',\n",
       " 'https://bibomart.com.vn/do-dung-trong-nha.html']"
      ]
     },
     "execution_count": 7,
     "metadata": {},
     "output_type": "execute_result"
    }
   ],
   "source": [
    "urls"
   ]
  },
  {
   "cell_type": "code",
   "execution_count": null,
   "id": "ef3c8aef",
   "metadata": {
    "id": "ef3c8aef"
   },
   "outputs": [],
   "source": [
    "# Lưu tất cả url vào một file csv\n",
    "csv_file_path = 'urls.csv'\n",
    "with open(csv_file_path, 'w', newline='') as csv_file:\n",
    "    csv_writer = csv.writer(csv_file)\n",
    "    csv_writer.writerow(['URL'])\n",
    "    for url in urls:\n",
    "        csv_writer.writerow([url])"
   ]
  },
  {
   "cell_type": "code",
   "execution_count": null,
   "id": "16dc973a",
   "metadata": {
    "id": "16dc973a",
    "outputId": "9b6b3fa2-bb67-42b2-b567-ca841d7b3609"
   },
   "outputs": [
    {
     "data": {
      "text/plain": [
       "<generator object DataFrame.iterrows at 0x000001BB9B69E350>"
      ]
     },
     "execution_count": 18,
     "metadata": {},
     "output_type": "execute_result"
    }
   ],
   "source": [
    "url_df = pd.read_csv('urls.csv')\n",
    "url_df.iterrows()"
   ]
  },
  {
   "cell_type": "code",
   "execution_count": null,
   "id": "f6b6ace9",
   "metadata": {
    "id": "f6b6ace9",
    "outputId": "d16e44ea-7c52-4fc8-8f10-42c3ce1c1320"
   },
   "outputs": [
    {
     "name": "stdout",
     "output_type": "stream",
     "text": [
      "https://bibomart.com.vn/be-uong-sua.html\n",
      "https://bibomart.com.vn/be-an-dam.html\n",
      "https://bibomart.com.vn/be-tam-va-ve-sinh.html\n",
      "https://bibomart.com.vn/be-mac.html\n",
      "https://bibomart.com.vn/be-khoe-va-an-toan.html\n",
      "https://bibomart.com.vn/be-choi-va-hoc.html\n",
      "https://bibomart.com.vn/be-ngu.html\n",
      "https://bibomart.com.vn/be-di-choi-va-van-dong.html\n",
      "https://bibomart.com.vn/danh-cho-me.html\n",
      "https://bibomart.com.vn/do-dung-trong-nha.html\n"
     ]
    }
   ],
   "source": [
    "for index, row in url_df.iterrows():\n",
    "    url = row['URL']\n",
    "    print(url)\n",
    "    response = requests.get(url)"
   ]
  },
  {
   "cell_type": "code",
   "execution_count": null,
   "id": "ebef4333",
   "metadata": {
    "id": "ebef4333"
   },
   "outputs": [],
   "source": [
    "url_df = pd.read_csv('urls.csv')\n",
    "all_product_links = []\n",
    "for index, row in url_df.iterrows():\n",
    "    url = row['URL']\n",
    "    while True:\n",
    "        response = requests.get(url)\n",
    "        soup = BeautifulSoup(response.text, 'html.parser')\n",
    "        product_links = [link['href'] for link in soup.find_all('a', class_='product photo product-item-photo')] \n",
    "        all_product_links.extend(product_links)\n",
    "        next_page_link = soup.find('li', class_='item pages-item-next')\n",
    "        if next_page_link:\n",
    "            url = next_page_link.a['href']\n",
    "        else:\n",
    "            break"
   ]
  },
  {
   "cell_type": "code",
   "execution_count": null,
   "id": "0dbdc832",
   "metadata": {
    "id": "0dbdc832",
    "outputId": "5d377ea0-44b2-4ca4-f952-d04030c65aa4"
   },
   "outputs": [
    {
     "data": {
      "text/plain": [
       "5182"
      ]
     },
     "execution_count": 31,
     "metadata": {},
     "output_type": "execute_result"
    }
   ],
   "source": [
    "len(all_product_links)"
   ]
  },
  {
   "cell_type": "code",
   "execution_count": null,
   "id": "d929420a",
   "metadata": {
    "id": "d929420a"
   },
   "outputs": [],
   "source": [
    "csv_file_path = 'Link_sanPham.csv'\n",
    "with open(csv_file_path, 'w', newline='') as csv_file:\n",
    "    csv_writer = csv.writer(csv_file)\n",
    "    csv_writer.writerow(['URL'])\n",
    "    for url in all_product_links:\n",
    "        csv_writer.writerow([url])"
   ]
  },
  {
   "cell_type": "code",
   "execution_count": 1,
   "id": "0569c5ae",
   "metadata": {
    "colab": {
     "base_uri": "https://localhost:8080/"
    },
    "executionInfo": {
     "elapsed": 290,
     "status": "ok",
     "timestamp": 1713582312838,
     "user": {
      "displayName": "Linh Hoàng",
      "userId": "18303280637135091840"
     },
     "user_tz": -420
    },
    "id": "0569c5ae",
    "outputId": "880484e9-c5a3-4480-84c3-df059cea6244"
   },
   "outputs": [],
   "source": [
    "all_product_links = pd.read_csv('/content/drive/MyDrive/TTAI/Link_sanPham.csv')\n",
    "all_product_links = all_product_links['URL'].to_list()"
   ]
  },
  {
   "cell_type": "markdown",
   "id": "6d768d9a",
   "metadata": {},
   "source": [
    "# Code để lấy thông tin sản phẩm"
   ]
  },
  {
   "cell_type": "markdown",
   "id": "9b3b8d83",
   "metadata": {},
   "source": [
    "- Do việc lấy dữ liệu có vấn đề nên việc cào dữ liệu sẽ chia làm 2 phần:\n",
    "    + Phần đầu sẽ lấy tên và giá\n",
    "    + Phần sau sẽ lấy thông tin sản phẩm sau đó ghép lại thành dataframe hoản chỉnh"
   ]
  },
  {
   "cell_type": "code",
   "execution_count": 3,
   "id": "11982321",
   "metadata": {},
   "outputs": [],
   "source": [
    "def scrape_product(product_url):\n",
    "    driver = web_driver()\n",
    "    driver.get(product_url)\n",
    "    try:\n",
    "        try:\n",
    "            continue_button = WebDriverWait(driver, 2).until(EC.element_to_be_clickable((By.XPATH, '//*[@id=\"yesbutton\"]')))\n",
    "            continue_button.click()\n",
    "            WebDriverWait(driver, 2).until(EC.invisibility_of_element((By.XPATH, '//*[@id=\"bio_ep\"]')))\n",
    "        except:\n",
    "            pass\n",
    "        soup = BeautifulSoup(driver.page_source, 'html.parser')\n",
    "\n",
    "        product_name = soup.find('h1', class_='page-title')\n",
    "        product_name = product_name.text.strip() if product_name else None\n",
    "\n",
    "        product_price = soup.find('span', class_='price')\n",
    "        product_price = product_price.text.strip() if product_price else None\n",
    "        return product_name,product_price\n",
    "    finally:\n",
    "        driver.quit()"
   ]
  },
  {
   "cell_type": "code",
   "execution_count": 7,
   "id": "576ab25f",
   "metadata": {
    "executionInfo": {
     "elapsed": 400,
     "status": "ok",
     "timestamp": 1713582206673,
     "user": {
      "displayName": "Linh Hoàng",
      "userId": "18303280637135091840"
     },
     "user_tz": -420
    },
    "id": "576ab25f"
   },
   "outputs": [],
   "source": [
    "def scrape_product(product_url):\n",
    "    driver = web_driver()\n",
    "    driver.get(product_url)\n",
    "    try:\n",
    "        try:\n",
    "            continue_button = WebDriverWait(driver, 2).until(EC.element_to_be_clickable((By.XPATH, '//*[@id=\"yesbutton\"]')))\n",
    "            continue_button.click()\n",
    "            WebDriverWait(driver, 2).until(EC.invisibility_of_element((By.XPATH, '//*[@id=\"bio_ep\"]')))\n",
    "        except:\n",
    "            pass\n",
    "\n",
    "        soup = BeautifulSoup(driver.page_source, 'html.parser')\n",
    "\n",
    "        try:\n",
    "            continue_button = WebDriverWait(driver, 10).until(EC.element_to_be_clickable((By.XPATH, '//*[@id=\"tab-label-additional\"]')))\n",
    "            continue_button.click()\n",
    "\n",
    "            soup = BeautifulSoup(driver.page_source, 'html.parser')\n",
    "\n",
    "            table = soup.find('table', class_='data table additional-attributes')\n",
    "            if table:\n",
    "                table_data = []\n",
    "                for row in table.find_all('tr'):\n",
    "                    row_data = [col.text.strip() for col in row.find_all('td')]\n",
    "                    table_data.append(row_data)\n",
    "                return table_data\n",
    "            else:\n",
    "                return None\n",
    "        except:\n",
    "            pass\n",
    "    finally:\n",
    "        driver.quit()"
   ]
  },
  {
   "cell_type": "code",
   "execution_count": 2,
   "id": "eb61aab8",
   "metadata": {},
   "outputs": [],
   "source": [
    "product_data = []\n",
    "for url in urls:\n",
    "    product_name, product_price = scrape_product(url)\n",
    "    if product_name and product_price:\n",
    "        product_data.append([product_name, product_price])"
   ]
  },
  {
   "cell_type": "code",
   "execution_count": 10,
   "id": "824b41bc",
   "metadata": {
    "executionInfo": {
     "elapsed": 9815589,
     "status": "ok",
     "timestamp": 1713592137380,
     "user": {
      "displayName": "Linh Hoàng",
      "userId": "18303280637135091840"
     },
     "user_tz": -420
    },
    "id": "824b41bc"
   },
   "outputs": [],
   "source": [
    "product_info = []\n",
    "for url in all_product_links:\n",
    "    table_data = scrape_product(url)\n",
    "    table_data = table_data if table_data else []\n",
    "    product_info.append([table_data])"
   ]
  },
  {
   "cell_type": "code",
   "execution_count": 11,
   "id": "829c0b5f",
   "metadata": {
    "executionInfo": {
     "elapsed": 5,
     "status": "ok",
     "timestamp": 1713592137381,
     "user": {
      "displayName": "Linh Hoàng",
      "userId": "18303280637135091840"
     },
     "user_tz": -420
    },
    "id": "829c0b5f"
   },
   "outputs": [],
   "source": [
    "filename = \"/content/drive/MyDrive/TTAI/SanPhamBio.csv\"\n",
    "with open(filename, 'w', newline='', encoding='utf-8') as file:\n",
    "    writer = csv.writer(file)\n",
    "    writer.writerow(['Product Name', 'Product Price','Table Info'])\n",
    "    writer.writerows([product_data, product_info])"
   ]
  }
 ],
 "metadata": {
  "colab": {
   "provenance": []
  },
  "kernelspec": {
   "display_name": "Python 3 (ipykernel)",
   "language": "python",
   "name": "python3"
  },
  "language_info": {
   "codemirror_mode": {
    "name": "ipython",
    "version": 3
   },
   "file_extension": ".py",
   "mimetype": "text/x-python",
   "name": "python",
   "nbconvert_exporter": "python",
   "pygments_lexer": "ipython3",
   "version": "3.11.4"
  }
 },
 "nbformat": 4,
 "nbformat_minor": 5
}
